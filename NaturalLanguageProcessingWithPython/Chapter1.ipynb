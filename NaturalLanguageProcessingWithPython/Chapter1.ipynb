{
 "cells": [
  {
   "cell_type": "markdown",
   "metadata": {},
   "source": [
    "We can break down the supervised learning paradigm with six major concepts:\n",
    "\n",
    "**Observations**: \n",
    "\n",
    "- Items where we want to predict something. We denote observations with ***x***. We sometimes can also denote it as ***inputs*** . \n",
    "\n",
    "**Targets**\n",
    "\n",
    "- Targets are labels corresoinding to an observation. These are usually the things being predictd. The standard notation for them us ***y*** or ***ground truth***.\n",
    "\n",
    "**Model**\n",
    "\n",
    "- A model is a mathematical expression or a function that takes a observation, ***x*** , and predicts the target value. \n",
    "\n",
    "**Parameters**\n",
    " \n",
    "- Sometimes we call them ***weights***, these parameterize the model. It is standard to use notation ***w*** (for weights).\n",
    "\n",
    "**Predictions***\n",
    "\n",
    "- So called ***estimates***, these are the values if the targets guessed by the model, given the observations. We denote them using a hat notation. So we would call them ***y hat***. \n",
    "\n",
    "**Loss Function**\n",
    "\n",
    "- A loss function is a function that compares how far off a predicition is from a target for observations in a training set. Given a tartget and its precitions, the loss function assigns a scalar, or just one value which we call the loss. The lower the value, the better the model is. We use L to denote the loss function. \n",
    "\n"
   ]
  },
  {
   "cell_type": "markdown",
   "metadata": {},
   "source": []
  },
  {
   "cell_type": "code",
   "execution_count": null,
   "metadata": {},
   "outputs": [],
   "source": [
    "import torch \n"
   ]
  }
 ],
 "metadata": {
  "language_info": {
   "name": "python"
  },
  "orig_nbformat": 4
 },
 "nbformat": 4,
 "nbformat_minor": 2
}
