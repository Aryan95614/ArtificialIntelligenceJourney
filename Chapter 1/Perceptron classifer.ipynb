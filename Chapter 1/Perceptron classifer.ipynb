{
 "cells": [
  {
   "cell_type": "markdown",
   "source": [
    "# An object oriented perceptron API"
   ],
   "metadata": {
    "collapsed": false
   }
  },
  {
   "cell_type": "code",
   "execution_count": 8,
   "outputs": [],
   "source": [
    "import numpy as np\n",
    "\n",
    "class Perceptron:\n",
    "    \"\"\" Perceptron Classifer\n",
    "\n",
    "    Parameters\n",
    "    ----------\n",
    "    eta: float\n",
    "        learning rate (between 0.0 and 1.0)\n",
    "    n_iter:int\n",
    "        passes over the training dataset\n",
    "    random_state : int\n",
    "        Random number generator seed for random weights\n",
    "\n",
    "    Attributes\n",
    "    ----------\n",
    "    w_: 1d-array\n",
    "        weights after weight\n",
    "    b_: Scalar\n",
    "        Bias unit after fitting\n",
    "\n",
    "    errors_ : list\n",
    "        Number of miscancellations per epoch\n",
    "    \"\"\"\n",
    "\n",
    "\n",
    "    def __init__(self, eta=0.01, n_iter=50, random_state=1):\n",
    "        self.eta = eta\n",
    "        self.n_iter= n_iter\n",
    "        self.random_state=random_state\n",
    "\n",
    "    def fit(self, X, y):\n",
    "        rgen = np.random.RandomState(self.random_state)\n",
    "        self.w_ = rgen.normal(loc=0.0, scale=0.01, size=X.shape[1])\n",
    "\n",
    "        self.b_ = np.float_(0.)\n",
    "        self.errors_:list = []\n",
    "\n",
    "        for _ in range(self.n_iter):\n",
    "            errors = 0\n",
    "            for xi, target in zip(X, y):\n",
    "                update = self.eta * (target - self.predict(xi))\n",
    "                self.w_ += update * xi\n",
    "                self.b_ += update\n",
    "                errors += int(update != 0.0)\n",
    "            self.errors_.append(errors)\n",
    "        return self\n",
    "\n",
    "    def net_input(self, X):\n",
    "        # Calculating the net product\n",
    "        return np.dot(X, self.w_) + self.b_\n",
    "\n",
    "    def predict(self, X):\n",
    "        # return the class label after each step, might be epoch idk\n",
    "        return np.where(self.net_input(X) >= 0, 1, 0)\n",
    "\n",
    "\n",
    "\n",
    "\n",
    "\n"
   ],
   "metadata": {
    "collapsed": false,
    "ExecuteTime": {
     "start_time": "2023-04-03T22:25:01.803789Z",
     "end_time": "2023-04-03T22:25:01.808463Z"
    }
   }
  }
 ],
 "metadata": {
  "kernelspec": {
   "display_name": "Python 3",
   "language": "python",
   "name": "python3"
  },
  "language_info": {
   "codemirror_mode": {
    "name": "ipython",
    "version": 2
   },
   "file_extension": ".py",
   "mimetype": "text/x-python",
   "name": "python",
   "nbconvert_exporter": "python",
   "pygments_lexer": "ipython2",
   "version": "2.7.6"
  }
 },
 "nbformat": 4,
 "nbformat_minor": 0
}
