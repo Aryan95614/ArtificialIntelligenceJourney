{
 "cells": [
  {
   "cell_type": "markdown",
   "metadata": {
    "collapsed": false
   },
   "source": [
    "# An object oriented perceptron API\n",
    "\n",
    "The weights and biases make sure to shift the point in the correct way."
   ]
  },
  {
   "cell_type": "code",
   "execution_count": 1,
   "metadata": {
    "ExecuteTime": {
     "end_time": "2023-04-04T11:01:20.989233Z",
     "start_time": "2023-04-04T11:01:20.856783Z"
    },
    "collapsed": false
   },
   "outputs": [
    {
     "ename": "ModuleNotFoundError",
     "evalue": "No module named 'numpy'",
     "output_type": "error",
     "traceback": [
      "\u001b[1;31m---------------------------------------------------------------------------\u001b[0m",
      "\u001b[1;31mModuleNotFoundError\u001b[0m                       Traceback (most recent call last)",
      "\u001b[1;32mc:\\Users\\aryan\\OneDrive\\Documents\\GitHub\\ArtificialIntelligenceJourney\\Chapter 1\\Perceptron classifer.ipynb Cell 2\u001b[0m line \u001b[0;36m1\n\u001b[1;32m----> <a href='vscode-notebook-cell:/c%3A/Users/aryan/OneDrive/Documents/GitHub/ArtificialIntelligenceJourney/Chapter%201/Perceptron%20classifer.ipynb#W1sZmlsZQ%3D%3D?line=0'>1</a>\u001b[0m \u001b[39mimport\u001b[39;00m \u001b[39mnumpy\u001b[39;00m \u001b[39mas\u001b[39;00m \u001b[39mnp\u001b[39;00m\n\u001b[0;32m      <a href='vscode-notebook-cell:/c%3A/Users/aryan/OneDrive/Documents/GitHub/ArtificialIntelligenceJourney/Chapter%201/Perceptron%20classifer.ipynb#W1sZmlsZQ%3D%3D?line=2'>3</a>\u001b[0m \u001b[39mclass\u001b[39;00m \u001b[39mPerceptron\u001b[39;00m:\n\u001b[0;32m      <a href='vscode-notebook-cell:/c%3A/Users/aryan/OneDrive/Documents/GitHub/ArtificialIntelligenceJourney/Chapter%201/Perceptron%20classifer.ipynb#W1sZmlsZQ%3D%3D?line=3'>4</a>\u001b[0m \u001b[39m    \u001b[39m\u001b[39m\"\"\" Perceptron Classifer\u001b[39;00m\n\u001b[0;32m      <a href='vscode-notebook-cell:/c%3A/Users/aryan/OneDrive/Documents/GitHub/ArtificialIntelligenceJourney/Chapter%201/Perceptron%20classifer.ipynb#W1sZmlsZQ%3D%3D?line=4'>5</a>\u001b[0m \n\u001b[0;32m      <a href='vscode-notebook-cell:/c%3A/Users/aryan/OneDrive/Documents/GitHub/ArtificialIntelligenceJourney/Chapter%201/Perceptron%20classifer.ipynb#W1sZmlsZQ%3D%3D?line=5'>6</a>\u001b[0m \u001b[39m    Parameters\u001b[39;00m\n\u001b[1;32m   (...)\u001b[0m\n\u001b[0;32m     <a href='vscode-notebook-cell:/c%3A/Users/aryan/OneDrive/Documents/GitHub/ArtificialIntelligenceJourney/Chapter%201/Perceptron%20classifer.ipynb#W1sZmlsZQ%3D%3D?line=22'>23</a>\u001b[0m \u001b[39m        Number of miscancellations per epoch\u001b[39;00m\n\u001b[0;32m     <a href='vscode-notebook-cell:/c%3A/Users/aryan/OneDrive/Documents/GitHub/ArtificialIntelligenceJourney/Chapter%201/Perceptron%20classifer.ipynb#W1sZmlsZQ%3D%3D?line=23'>24</a>\u001b[0m \u001b[39m    \"\"\"\u001b[39;00m\n",
      "\u001b[1;31mModuleNotFoundError\u001b[0m: No module named 'numpy'"
     ]
    }
   ],
   "source": [
    "import numpy as np\n",
    "\n",
    "class Perceptron:\n",
    "    \"\"\" Perceptron Classifer\n",
    "\n",
    "    Parameters\n",
    "    ----------\n",
    "    eta: float\n",
    "        learning rate (between 0.0 and 1.0)\n",
    "    n_iter:int\n",
    "        passes over the training dataset\n",
    "    random_state : int\n",
    "        Random number generator seed for random weights\n",
    "\n",
    "    Attributes\n",
    "    ----------\n",
    "    w_: 1d-array\n",
    "        weights after weight\n",
    "    b_: Scalar\n",
    "        Bias unit after fitting\n",
    "\n",
    "    errors_ : list\n",
    "        Number of miscancellations per epoch\n",
    "    \"\"\"\n",
    "\n",
    "\n",
    "    def __init__(self, eta=0.01, n_iter=50, random_state=1):\n",
    "        self.eta = eta\n",
    "        self.n_iter= n_iter\n",
    "        self.random_state=random_state\n",
    "\n",
    "    def fit(self, X, y):\n",
    "        rgen = np.random.RandomState(self.random_state)\n",
    "        self.w_ = rgen.normal(loc=0.0, scale=0.01, size=X.shape[1])\n",
    "\n",
    "        self.b_ = np.float_(0.)\n",
    "        self.errors_:list = []\n",
    "\n",
    "        for _ in range(self.n_iter):\n",
    "            errors = 0\n",
    "            for xi, target in zip(X, y):\n",
    "                update = self.eta * (target - self.predict(xi))\n",
    "                self.w_ += update * xi\n",
    "                self.b_ += update\n",
    "                errors += int(update != 0.0)\n",
    "            self.errors_.append(errors)\n",
    "        return self\n",
    "\n",
    "    def net_input(self, X):\n",
    "        # Calculating the net product\n",
    "        return np.dot(X, self.w_) + self.b_\n",
    "\n",
    "    def predict(self, X):\n",
    "        # return the class label after each step, might be epoch idk\n",
    "        return np.where(self.net_input(X) >= 0, 1, 0)"
   ]
  }
 ],
 "metadata": {
  "kernelspec": {
   "display_name": "Python 3",
   "language": "python",
   "name": "python3"
  },
  "language_info": {
   "codemirror_mode": {
    "name": "ipython",
    "version": 3
   },
   "file_extension": ".py",
   "mimetype": "text/x-python",
   "name": "python",
   "nbconvert_exporter": "python",
   "pygments_lexer": "ipython3",
   "version": "3.10.6"
  }
 },
 "nbformat": 4,
 "nbformat_minor": 0
}
